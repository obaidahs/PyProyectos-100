{
  "nbformat": 4,
  "nbformat_minor": 0,
  "metadata": {
    "colab": {
      "provenance": [],
      "authorship_tag": "ABX9TyPs8PLOKTXkALk+uMicgDR1",
      "include_colab_link": true
    },
    "kernelspec": {
      "name": "python3",
      "display_name": "Python 3"
    },
    "language_info": {
      "name": "python"
    }
  },
  "cells": [
    {
      "cell_type": "markdown",
      "metadata": {
        "id": "view-in-github",
        "colab_type": "text"
      },
      "source": [
        "<a href=\"https://colab.research.google.com/github/obaidahs/PyProyectos-100/blob/main/S1_Dia1.ipynb\" target=\"_parent\"><img src=\"https://colab.research.google.com/assets/colab-badge.svg\" alt=\"Open In Colab\"/></a>"
      ]
    },
    {
      "cell_type": "markdown",
      "source": [
        "NOTA: Los ficheros de colab tienen la extensión ipynb (**i**nteractive **py**thon **n**ote**b**ook)"
      ],
      "metadata": {
        "id": "elHgNZlZO1ws"
      }
    },
    {
      "cell_type": "markdown",
      "source": [
        "# Instrucción print"
      ],
      "metadata": {
        "id": "qJPMtv__PlSE"
      }
    },
    {
      "cell_type": "code",
      "execution_count": null,
      "metadata": {
        "colab": {
          "base_uri": "https://localhost:8080/"
        },
        "id": "INbtgIN4OYH9",
        "outputId": "f2460db3-39c7-4fe8-a2c5-fa780f3dffd5"
      },
      "outputs": [
        {
          "output_type": "stream",
          "name": "stdout",
          "text": [
            "Tu mensaje aquí\n"
          ]
        }
      ],
      "source": [
        "print(\"Tu mensaje aquí\")"
      ]
    },
    {
      "cell_type": "markdown",
      "source": [
        "# Mostrar texto y números con print"
      ],
      "metadata": {
        "id": "8NQAzN50PsCi"
      }
    },
    {
      "cell_type": "code",
      "source": [
        "print(\"El número es:\", 4)\n",
        "print(\"2 + 2 = \", 2 + 2)"
      ],
      "metadata": {
        "colab": {
          "base_uri": "https://localhost:8080/"
        },
        "id": "LlbFLe5aPwsR",
        "outputId": "408b4438-7b9d-40ba-cbb9-a5df6a24ab0a"
      },
      "execution_count": null,
      "outputs": [
        {
          "output_type": "stream",
          "name": "stdout",
          "text": [
            "El número es: 4\n",
            "2 + 2 =  4\n"
          ]
        }
      ]
    },
    {
      "cell_type": "markdown",
      "source": [
        "# El formato de cadenas para mensajes dinámicos"
      ],
      "metadata": {
        "id": "3kBxAMWnQQaB"
      }
    },
    {
      "cell_type": "code",
      "source": [
        "name = \"Vivian\"\n",
        "print(\"Hola, {name}! Bienvenido a la programación en Python\")"
      ],
      "metadata": {
        "colab": {
          "base_uri": "https://localhost:8080/"
        },
        "id": "OBcswBqEQUdx",
        "outputId": "488d3f44-7c21-41a7-a6f0-67f09acc8625"
      },
      "execution_count": null,
      "outputs": [
        {
          "output_type": "stream",
          "name": "stdout",
          "text": [
            "Hola, {name}! Bienvenido a la programación en Python\n"
          ]
        }
      ]
    },
    {
      "cell_type": "code",
      "source": [
        "name = \"Vivian\"\n",
        "print(\"Hola, {name}! Bienvenido a la programación en Python\")"
      ],
      "metadata": {
        "colab": {
          "base_uri": "https://localhost:8080/"
        },
        "id": "l-cMhWneQwSB",
        "outputId": "0b8baf96-8678-45fa-8830-1a53422a7246"
      },
      "execution_count": null,
      "outputs": [
        {
          "output_type": "stream",
          "name": "stdout",
          "text": [
            "Hola, {name}! Bienvenido a la programación en Python\n"
          ]
        }
      ]
    },
    {
      "cell_type": "code",
      "source": [
        "userName = input(\"Cuál es tu nombre? \")\n",
        "print(f\"Hola, {userName}! Bienvenido a la programación en Python\")"
      ],
      "metadata": {
        "colab": {
          "base_uri": "https://localhost:8080/"
        },
        "id": "SFmteBW7RJmu",
        "outputId": "31f5b3fe-4d66-42fb-fa94-0f7165e7f1cf"
      },
      "execution_count": null,
      "outputs": [
        {
          "output_type": "stream",
          "name": "stdout",
          "text": [
            "Cuál es tu nombre? Pedro\n",
            "Hola, Pedro! Bienvenido a la programación en Python\n"
          ]
        }
      ]
    },
    {
      "cell_type": "markdown",
      "source": [
        "# Proyecto Dia 1: Generador de mensaje de bienvenida"
      ],
      "metadata": {
        "id": "Ad9SuC-bSL1h"
      }
    },
    {
      "cell_type": "markdown",
      "source": [
        "**Requisitos**\n",
        "1. Pregunta al usuario por su nombre y pasatiempo favorito.\n",
        "2. Generar el mensaje de bienvenida."
      ],
      "metadata": {
        "id": "6kp_O5YPSSuR"
      }
    },
    {
      "cell_type": "code",
      "source": [
        "# Generador de Mensajes de Bienvenida\n",
        "# Paso 1: Pregunta al usuario por sus detalles.\n",
        "nombreUsuario = input(\"Indica tu nombre: \")\n",
        "hobby = input(\"Indica tu pasatiempo favorito: \")\n",
        "\n",
        "# Paso 2: Generar el mensaje de bienvenida personalizado.\n",
        "print(\"\\n --- Mensaje de Bienvenida ---\")\n",
        "print(f\"Bienvenido/a {nombreUsuario.upper()}! 🤚\")\n",
        "print(f\"Bienvenido al mundo de la programación en Python!\")\n",
        "print(f\"Es genial saber que amas el {hobby.upper()}\")\n",
        "print(f\"Preparate para construir algo increible hoy.\")"
      ],
      "metadata": {
        "colab": {
          "base_uri": "https://localhost:8080/"
        },
        "id": "STyZQoP4SwF8",
        "outputId": "bab0a8a5-2f4d-4764-eaee-00aeaf51c340"
      },
      "execution_count": null,
      "outputs": [
        {
          "output_type": "stream",
          "name": "stdout",
          "text": [
            "Indica tu nombre: pepito grillo\n",
            "Indica tu pasatiempo favorito: salseo\n",
            "\n",
            " --- Mensaje de Bienvenida ---\n",
            "Bienvenido/a PEPITO GRILLO! 🤚\n",
            "Bienvenido al mundo de la programación en Python!\n",
            "Es genial saber que amas el SALSEO\n",
            "Preparate para construir algo increible hoy.\n"
          ]
        }
      ]
    }
  ]
}