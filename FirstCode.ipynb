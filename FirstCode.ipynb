{
  "nbformat": 4,
  "nbformat_minor": 0,
  "metadata": {
    "colab": {
      "provenance": [],
      "collapsed_sections": [
        "ixNnr26pewtY",
        "DlVzN3_qe4gd",
        "4hM53DZdetIw",
        "MbL62joWgVrf",
        "XUz6OchjiXz1",
        "jSO6zQGBkTIf",
        "6Ip0P-6n1RsC",
        "VQlqYmtA4VS8"
      ],
      "authorship_tag": "ABX9TyPN6iEtc2Gm0OOlXLLauLb0",
      "include_colab_link": true
    },
    "kernelspec": {
      "name": "python3",
      "display_name": "Python 3"
    },
    "language_info": {
      "name": "python"
    }
  },
  "cells": [
    {
      "cell_type": "markdown",
      "metadata": {
        "id": "view-in-github",
        "colab_type": "text"
      },
      "source": [
        "<a href=\"https://colab.research.google.com/github/obaidahs/PyProyectos-100/blob/main/FirstCode.ipynb\" target=\"_parent\"><img src=\"https://colab.research.google.com/assets/colab-badge.svg\" alt=\"Open In Colab\"/></a>"
      ]
    },
    {
      "cell_type": "markdown",
      "source": [
        "# Hola Mundo!"
      ],
      "metadata": {
        "id": "ixNnr26pewtY"
      }
    },
    {
      "cell_type": "code",
      "execution_count": null,
      "metadata": {
        "colab": {
          "base_uri": "https://localhost:8080/"
        },
        "id": "oFZ6AN4ZTwiJ",
        "outputId": "df0e50c6-63a1-41dd-f87a-2aa53c6a639a"
      },
      "outputs": [
        {
          "output_type": "stream",
          "name": "stdout",
          "text": [
            "Hola coders!\n"
          ]
        }
      ],
      "source": [
        "print(\"Hola coders!\")"
      ]
    },
    {
      "cell_type": "markdown",
      "source": [
        "# Variables"
      ],
      "metadata": {
        "id": "DlVzN3_qe4gd"
      }
    },
    {
      "cell_type": "code",
      "source": [
        "name = \"Julia\"\n",
        "age = 30\n",
        "height = 1.7\n",
        "is_gamer = False"
      ],
      "metadata": {
        "colab": {
          "base_uri": "https://localhost:8080/"
        },
        "id": "IXyWHcE8bK3l",
        "outputId": "24809b08-10d6-4320-b1de-e21105de90fb"
      },
      "execution_count": null,
      "outputs": [
        {
          "output_type": "stream",
          "name": "stdout",
          "text": [
            "Julia tiene 30 años y mide 1.7 metros.\n"
          ]
        }
      ]
    },
    {
      "cell_type": "markdown",
      "source": [
        "Para imprimir el contenido de las variables podemos usar la función **print()**."
      ],
      "metadata": {
        "id": "av2jjzM_d_Ck"
      }
    },
    {
      "cell_type": "code",
      "source": [
        "print(\"Nombre:\", name)\n",
        "print(\"Edad:\", age)\n",
        "print(\"Altura:\", height)\n",
        "print(\"Es jugador?\", is_gamer)"
      ],
      "metadata": {
        "colab": {
          "base_uri": "https://localhost:8080/"
        },
        "id": "AumsSjpxeHke",
        "outputId": "25ad3a74-a3fb-43ba-f8f2-6395abfc55b7"
      },
      "execution_count": null,
      "outputs": [
        {
          "output_type": "stream",
          "name": "stdout",
          "text": [
            "Nombre: Julia\n",
            "Edad: 30\n",
            "Altura: 1.7\n",
            "Es jugador? True\n"
          ]
        }
      ]
    },
    {
      "cell_type": "markdown",
      "source": [
        "# Función Input"
      ],
      "metadata": {
        "id": "4hM53DZdetIw"
      }
    },
    {
      "cell_type": "code",
      "source": [
        "user_name = input(\"Cuál es tu nombre? \")\n",
        "print(\"Bienvenido/a\", user_name)"
      ],
      "metadata": {
        "colab": {
          "base_uri": "https://localhost:8080/"
        },
        "id": "LN_8cYhQfHoO",
        "outputId": "f3178e73-4d9a-4ccd-e7de-4ca658e63238"
      },
      "execution_count": null,
      "outputs": [
        {
          "output_type": "stream",
          "name": "stdout",
          "text": [
            "Cuál es tu nombre? Juan\n",
            "Bienvenido/a Juan\n"
          ]
        }
      ]
    },
    {
      "cell_type": "markdown",
      "source": [
        "# Operaciones matemáticas"
      ],
      "metadata": {
        "id": "MbL62joWgVrf"
      }
    },
    {
      "cell_type": "code",
      "source": [
        "x = 3\n",
        "y = 10\n",
        "\n",
        "print(x + y)\n",
        "print(y - x)\n",
        "print(x * y)\n",
        "print(y / x)\n",
        "print(y // x) # División entera\n",
        "print(y % x) # Módulo o resto de la división\n",
        "print(y ** x) # Exponente o potencia"
      ],
      "metadata": {
        "colab": {
          "base_uri": "https://localhost:8080/"
        },
        "id": "RvX5Y1ZMgeSm",
        "outputId": "1152a8c0-6dc7-4fa7-cf1f-f1eacb9921b3"
      },
      "execution_count": null,
      "outputs": [
        {
          "output_type": "stream",
          "name": "stdout",
          "text": [
            "13\n",
            "7\n",
            "30\n",
            "3.3333333333333335\n",
            "3\n",
            "1\n",
            "1000\n"
          ]
        }
      ]
    },
    {
      "cell_type": "markdown",
      "source": [
        "# Selección: if, elif, else"
      ],
      "metadata": {
        "id": "XUz6OchjiXz1"
      }
    },
    {
      "cell_type": "code",
      "source": [
        "edad = int(input(\"Indica tu edad: \"))\n",
        "\n",
        "if edad >= 18:\n",
        "  print(\"Eres adulto.\")\n",
        "elif edad >= 13:\n",
        "  print(\"Eres adolescente.\")\n",
        "else:\n",
        "  print(\"Eres menor.\")"
      ],
      "metadata": {
        "colab": {
          "base_uri": "https://localhost:8080/"
        },
        "id": "bY32eUhmigk9",
        "outputId": "b366d773-ed34-4f9c-f5c9-42ac0296c9bd"
      },
      "execution_count": null,
      "outputs": [
        {
          "output_type": "stream",
          "name": "stdout",
          "text": [
            "Indica tu edad: 17\n",
            "Eres adolescente.\n"
          ]
        }
      ]
    },
    {
      "cell_type": "markdown",
      "source": [
        "# Bucles: while, for (Repetir acciones)"
      ],
      "metadata": {
        "id": "jSO6zQGBkTIf"
      }
    },
    {
      "cell_type": "code",
      "source": [
        "count = 0\n",
        "while count < 5:\n",
        "  print(\"Contador: \", count)\n",
        "  count += 1"
      ],
      "metadata": {
        "colab": {
          "base_uri": "https://localhost:8080/"
        },
        "id": "Q9fcoJQ5kZV1",
        "outputId": "c1617ae5-93eb-4e29-c4c3-baf37d7f6a39"
      },
      "execution_count": null,
      "outputs": [
        {
          "output_type": "stream",
          "name": "stdout",
          "text": [
            "Contador:  0\n",
            "Contador:  1\n",
            "Contador:  2\n",
            "Contador:  3\n",
            "Contador:  4\n"
          ]
        }
      ]
    },
    {
      "cell_type": "code",
      "source": [
        "lista_videojuegos = [\"Juego 1\", \"Juego 2\", \"Juego 3\"]\n",
        "\n",
        "for juego in lista_videojuegos:\n",
        "  print(juego)"
      ],
      "metadata": {
        "colab": {
          "base_uri": "https://localhost:8080/"
        },
        "id": "ERb_umB7ptH_",
        "outputId": "8a4c54c3-1277-4078-fed7-49f7ee398e20"
      },
      "execution_count": null,
      "outputs": [
        {
          "output_type": "stream",
          "name": "stdout",
          "text": [
            "Juego 1\n",
            "Juego 2\n",
            "Juego 3\n"
          ]
        }
      ]
    },
    {
      "cell_type": "markdown",
      "source": [
        "# Listas"
      ],
      "metadata": {
        "id": "6Ip0P-6n1RsC"
      }
    },
    {
      "cell_type": "markdown",
      "source": [
        "Reutilizamos la lista declarada anteriormente con el nombre **lista_videojuegos**."
      ],
      "metadata": {
        "id": "T95qFPau1wU4"
      }
    },
    {
      "cell_type": "code",
      "source": [
        "print(lista_videojuegos[0]) # Imprime un elemento de la lista en la posición\n",
        "                            # indicada entre corchetes.\n",
        "                            # La posición en listas siempre comienza en cero.\n",
        "\n",
        "lista_videojuegos.append(\"Juego 6\") # Añadimos un nuevo elemento\n",
        "\n",
        "lista_videojuegos[4] = \"Juego 5\" # Modificamos el elemento de una lista\n",
        "\n",
        "print(lista_videojuegos)"
      ],
      "metadata": {
        "colab": {
          "base_uri": "https://localhost:8080/"
        },
        "id": "c3_1AA5T1USI",
        "outputId": "3cd74dd6-f2ae-46d4-c1c0-f135be47dfd9"
      },
      "execution_count": null,
      "outputs": [
        {
          "output_type": "stream",
          "name": "stdout",
          "text": [
            "Juego 1\n",
            "['Juego 1', 'Juego 8', 'Juego 3', 'Juego 4', 'Juego 5', 'Juego 6']\n"
          ]
        }
      ]
    },
    {
      "cell_type": "markdown",
      "source": [
        "# Funciones"
      ],
      "metadata": {
        "id": "VQlqYmtA4VS8"
      }
    },
    {
      "cell_type": "code",
      "source": [
        "def saludar(nombre_persona):\n",
        "  print(\"Saludos \" + nombre_persona + \", desde tu primera función en python!\")\n",
        "\n",
        "saludar(\"Juan\")"
      ],
      "metadata": {
        "colab": {
          "base_uri": "https://localhost:8080/"
        },
        "id": "kMD2J_ff4ZI7",
        "outputId": "0335d3d7-fd86-45d7-bcdd-f45b3a87a102"
      },
      "execution_count": null,
      "outputs": [
        {
          "output_type": "stream",
          "name": "stdout",
          "text": [
            "Saludos Juan, desde tu primera función en python!\n"
          ]
        }
      ]
    },
    {
      "cell_type": "code",
      "source": [
        "def multiplica(a, b):\n",
        "  return a * b\n",
        "\n",
        "resultado = multiplica(3, 15)\n",
        "print(\"Resultado:\", resultado)"
      ],
      "metadata": {
        "colab": {
          "base_uri": "https://localhost:8080/"
        },
        "id": "Ei-azCmU97Ep",
        "outputId": "3e845378-07cf-4a3c-a88f-d4066b9168a9"
      },
      "execution_count": null,
      "outputs": [
        {
          "output_type": "stream",
          "name": "stdout",
          "text": [
            "Resultado: 45\n"
          ]
        }
      ]
    },
    {
      "cell_type": "markdown",
      "source": [
        "# Mini Proyecto: Juego de adivinanza de números"
      ],
      "metadata": {
        "id": "I8hRog2s_Pgi"
      }
    },
    {
      "cell_type": "code",
      "source": [
        "import random\n",
        "\n",
        "secret_number = random.randint(1, 10)\n",
        "intentos = 3\n",
        "\n",
        "print(\"Estoy pensando en un número desde 1 a 10\")\n",
        "\n",
        "while intentos > 0:\n",
        "  guess = int(input(\"Haz una suposición: \"))\n",
        "  if guess == secret_number:\n",
        "    print(\"¡Felicidades, has descubierto el número!\")\n",
        "    break\n",
        "  elif guess < secret_number:\n",
        "    print(\"Demasiado bajo! Intentalo de nuevo.\")\n",
        "  else:\n",
        "    print(\"Demasiado alto! Intentalo de nuevo.\")\n",
        "  intentos -= 1 # Gastamos un intento más, es importante identarlo dentro del bucle\n",
        "\n",
        "if intentos == 0:\n",
        "  print(\"Lo siento te quedaste sin intentos! El número es:\", secret_number)"
      ],
      "metadata": {
        "colab": {
          "base_uri": "https://localhost:8080/"
        },
        "id": "yZ27E01O_V7o",
        "outputId": "f9c7a1b3-f1f1-46ce-e047-be9faac123bb"
      },
      "execution_count": null,
      "outputs": [
        {
          "output_type": "stream",
          "name": "stdout",
          "text": [
            "Estoy pensando en un número desde 1 a 10\n",
            "Haz una suposición: 5\n",
            "Demasiado alto! Intentalo de nuevo.\n",
            "Haz una suposición: 4\n",
            "Demasiado alto! Intentalo de nuevo.\n",
            "Haz una suposición: 2\n",
            "Demasiado bajo! Intentalo de nuevo.\n",
            "Lo siento te quedaste sin intentos! El número es: 3\n"
          ]
        }
      ]
    }
  ]
}